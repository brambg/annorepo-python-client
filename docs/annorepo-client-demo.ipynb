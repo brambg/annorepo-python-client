{
 "cells": [
  {
   "cell_type": "markdown",
   "id": "2e364886-8b49-40d1-948c-9bbd8099e02a",
   "metadata": {},
   "source": [
    "For interacting with an AnnoRepo server, you can use the python library `annorepo-client`\n",
    "\n",
    "If the AnnoRepo server requires authentication, you should have gotten a valid api-key."
   ]
  },
  {
   "cell_type": "code",
   "execution_count": 2,
   "id": "143226ff-7fbd-4ac5-9d26-8076216dafd5",
   "metadata": {},
   "outputs": [
    {
     "data": {
      "text/plain": [
       "{'appName': 'AnnoRepo',\n",
       " 'version': '0.6.0',\n",
       " 'startedAt': '2023-11-17T13:55:23.839020318Z',\n",
       " 'baseURI': 'https://annorepo.dev.clariah.nl',\n",
       " 'withAuthentication': True,\n",
       " 'sourceCode': 'https://github.com/knaw-huc/annorepo',\n",
       " 'mongoVersion': '6.0.3'}"
      ]
     },
     "execution_count": 2,
     "metadata": {},
     "output_type": "execute_result"
    }
   ],
   "source": [
    "from annorepo.client import AnnoRepoClient\n",
    "\n",
    "annorepo_url='https://annorepo.dev.clariah.nl'\n",
    "ar = AnnoRepoClient(annorepo_url, api_key=\"test-api-key\")\n",
    "ar.get_about()"
   ]
  },
  {
   "cell_type": "markdown",
   "id": "0fedef0e-87bd-4eee-b139-41babdb278ce",
   "metadata": {},
   "source": [
    "First, we check what containers we have access to"
   ]
  },
  {
   "cell_type": "code",
   "execution_count": 3,
   "id": "a08c0d58-fe96-4553-b92f-0df514ddcb0a",
   "metadata": {},
   "outputs": [
    {
     "data": {
      "text/plain": [
       "{}"
      ]
     },
     "execution_count": 3,
     "metadata": {},
     "output_type": "execute_result"
    }
   ],
   "source": [
    "ar.read_accessible_containers()"
   ]
  },
  {
   "cell_type": "markdown",
   "id": "eebb5766-42ca-4e20-9e60-c516b85fc704",
   "metadata": {},
   "source": [
    "Nothing yet, so let's create our first annotation container"
   ]
  },
  {
   "cell_type": "code",
   "execution_count": 4,
   "id": "1b448209-3c3c-479f-8949-381bde2dcf43",
   "metadata": {},
   "outputs": [
    {
     "data": {
      "text/plain": [
       "'https://annorepo.dev.clariah.nl/w3c/my-test-container/'"
      ]
     },
     "execution_count": 4,
     "metadata": {},
     "output_type": "execute_result"
    }
   ],
   "source": [
    "(etag,location,body) = ar.create_container(name=\"my-test-container\")\n",
    "location"
   ]
  },
  {
   "cell_type": "markdown",
   "id": "cc8f0d57-9d21-4934-8089-caadeea3cc51",
   "metadata": {},
   "source": [
    "If we now check what containers we have access to, we see we have access rights to `my-test-container`"
   ]
  },
  {
   "cell_type": "code",
   "execution_count": 5,
   "id": "8985e276-bae8-42c1-bf4d-cfd79a90370b",
   "metadata": {},
   "outputs": [
    {
     "data": {
      "text/plain": [
       "{'ADMIN': ['my-test-container']}"
      ]
     },
     "execution_count": 5,
     "metadata": {},
     "output_type": "execute_result"
    }
   ],
   "source": [
    "ar.read_accessible_containers()"
   ]
  },
  {
   "cell_type": "markdown",
   "id": "7e40f263-ffc3-48e0-b3a1-28efe0932868",
   "metadata": {},
   "source": [
    "We'll be working with this container now.\n",
    "\n",
    "To save having to specify the container name in all our client calls, we generate a container_adapter for this container:"
   ]
  },
  {
   "cell_type": "code",
   "execution_count": 6,
   "id": "826aecb0-4bf4-4763-b86f-af947aafaff1",
   "metadata": {},
   "outputs": [],
   "source": [
    "ca = ar.container_adapter(\"my-test-container\")"
   ]
  },
  {
   "cell_type": "markdown",
   "id": "306cc660-4ec0-4418-9a44-3d2030ef8dc3",
   "metadata": {},
   "source": [
    "Now we add our first annotation:"
   ]
  },
  {
   "cell_type": "code",
   "execution_count": 7,
   "id": "61ebb5e2-d14e-4918-86a1-cb65c6e13b39",
   "metadata": {},
   "outputs": [
    {
     "data": {
      "text/plain": [
       "{'@context': 'http://www.w3.org/ns/anno.jsonld',\n",
       " 'id': 'https://annorepo.dev.clariah.nl/w3c/my-test-container/basic-annotation-model',\n",
       " 'type': 'Annotation',\n",
       " 'body': 'http://example.org/post1',\n",
       " 'target': 'http://example.com/page1',\n",
       " 'via': 'http://example.org/anno1'}"
      ]
     },
     "execution_count": 7,
     "metadata": {},
     "output_type": "execute_result"
    }
   ],
   "source": [
    "annotation1={\n",
    "  \"@context\": \"http://www.w3.org/ns/anno.jsonld\",\n",
    "  \"id\": \"http://example.org/anno1\",\n",
    "  \"type\": \"Annotation\",\n",
    "  \"body\": \"http://example.org/post1\",\n",
    "  \"target\": \"http://example.com/page1\"\n",
    "}\n",
    "ca.add_annotation(content=annotation1,name=\"basic-annotation-model\")"
   ]
  },
  {
   "cell_type": "markdown",
   "id": "a7582504-5ca7-4181-b6cb-30f0a0c39d6d",
   "metadata": {},
   "source": [
    "If we go to the url of the annotation in a browser, we see we don't have access to it without our api-key.\n",
    "\n",
    "By default, a container and all its annotations are only accessible to logged-in users that have been added to the container users for that container.\n",
    "\n",
    "There is an option to make the container read-only accessible for anonymous users (without an api-key):"
   ]
  },
  {
   "cell_type": "code",
   "execution_count": 8,
   "id": "b6f549ee-53c7-4f15-9d00-53cb54adb9a2",
   "metadata": {},
   "outputs": [
    {
     "data": {
      "text/plain": [
       "True"
      ]
     },
     "execution_count": 8,
     "metadata": {},
     "output_type": "execute_result"
    }
   ],
   "source": [
    "ca.set_anonymous_user_read_access()"
   ]
  },
  {
   "cell_type": "markdown",
   "id": "d1335a49-49e9-41d3-b77e-220227b146e2",
   "metadata": {},
   "source": [
    "This succeeded, so now we can access the annotation url in the browser."
   ]
  },
  {
   "cell_type": "markdown",
   "id": "47922512-cb90-4ec2-aa9c-4f3ea64a1ed3",
   "metadata": {},
   "source": [
    "Now, let's add some more annotations, in one batch this time:"
   ]
  },
  {
   "cell_type": "code",
   "execution_count": 9,
   "id": "d8c41bbe-2f83-4ef2-87f7-8ae2dabae206",
   "metadata": {},
   "outputs": [
    {
     "data": {
      "text/plain": [
       "[{'annotationName': 'fa30efb3-2169-4223-86f2-143d8bf65dd8',\n",
       "  'containerName': 'my-test-container',\n",
       "  'etag': '809546646'},\n",
       " {'annotationName': 'fa01f59f-6c39-4c58-89e4-cdf6ac8a5aea',\n",
       "  'containerName': 'my-test-container',\n",
       "  'etag': '2087147021'},\n",
       " {'annotationName': 'd51e44b9-4be0-4734-9875-d13e45b35b58',\n",
       "  'containerName': 'my-test-container',\n",
       "  'etag': '829830413'},\n",
       " {'annotationName': '89f0a8fb-8a25-442c-abc8-6f1bc280a83f',\n",
       "  'containerName': 'my-test-container',\n",
       "  'etag': '939788185'},\n",
       " {'annotationName': 'c993c12b-0a8e-47c2-8fb6-4a286cb1c363',\n",
       "  'containerName': 'my-test-container',\n",
       "  'etag': '1567613796'},\n",
       " {'annotationName': 'a8d661b6-d731-4293-8ee1-5cc293af3681',\n",
       "  'containerName': 'my-test-container',\n",
       "  'etag': '1946132538'}]"
      ]
     },
     "execution_count": 9,
     "metadata": {},
     "output_type": "execute_result"
    }
   ],
   "source": [
    "annotations = [\n",
    "{\n",
    "  \"@context\": \"http://www.w3.org/ns/anno.jsonld\",\n",
    "  \"id\": \"http://example.org/anno2\",\n",
    "  \"type\": \"Annotation\",\n",
    "  \"body\": {\n",
    "    \"id\": \"http://example.org/analysis1.mp3\",\n",
    "    \"format\": \"audio/mpeg\",\n",
    "    \"language\": \"fr\"\n",
    "  },\n",
    "  \"target\": {\n",
    "    \"id\": \"http://example.gov/patent1.pdf\",\n",
    "    \"format\": \"application/pdf\",\n",
    "    \"language\": [\"en\", \"ar\"],\n",
    "    \"textDirection\": \"ltr\",\n",
    "    \"processingLanguage\": \"en\"\n",
    "  }\n",
    "},\n",
    "{\n",
    "  \"@context\": \"http://www.w3.org/ns/anno.jsonld\",\n",
    "  \"id\": \"http://example.org/anno3\",\n",
    "  \"type\": \"Annotation\",\n",
    "  \"body\": {\n",
    "    \"id\": \"http://example.org/video1\",\n",
    "    \"type\": \"Video\"\n",
    "  },\n",
    "  \"target\": {\n",
    "    \"id\": \"http://example.org/website1\",\n",
    "    \"type\": \"Text\"\n",
    "  }\n",
    "},\n",
    "{\n",
    "  \"@context\": \"http://www.w3.org/ns/anno.jsonld\",\n",
    "  \"id\": \"http://example.org/anno4\",\n",
    "  \"type\": \"Annotation\",\n",
    "  \"body\": \"http://example.org/description1\",\n",
    "  \"target\": {\n",
    "    \"id\": \"http://example.com/image1#xywh=100,100,300,300\",\n",
    "    \"type\": \"Image\",\n",
    "    \"format\": \"image/jpeg\"\n",
    "  }\n",
    "},\n",
    "{\n",
    "  \"@context\": \"http://www.w3.org/ns/anno.jsonld\",\n",
    "  \"id\": \"http://example.org/anno5\",\n",
    "  \"type\": \"Annotation\",\n",
    "  \"body\": {\n",
    "    \"type\" : \"TextualBody\",\n",
    "    \"value\" : \"<p>j'adore !</p>\",\n",
    "    \"format\" : \"text/html\",\n",
    "    \"language\" : \"fr\"\n",
    "  },\n",
    "  \"target\": \"http://example.org/photo1\"\n",
    "},\n",
    "{\n",
    "  \"@context\": \"http://www.w3.org/ns/anno.jsonld\",\n",
    "  \"id\": \"http://example.org/anno6\",\n",
    "  \"type\": \"Annotation\",\n",
    "  \"bodyValue\": \"Comment text\",\n",
    "  \"target\": \"http://example.org/target1\"\n",
    "},\n",
    "{\n",
    "  \"@context\": \"http://www.w3.org/ns/anno.jsonld\",\n",
    "  \"id\": \"http://example.org/anno7\",\n",
    "  \"type\": \"Annotation\",\n",
    "  \"body\": {\n",
    "    \"type\": \"TextualBody\",\n",
    "    \"value\": \"Comment text\",\n",
    "    \"format\": \"text/plain\"\n",
    "  },\n",
    "  \"target\": \"http://example.org/target1\"\n",
    "}\n",
    "]\n",
    "ca.add_annotations(annotation_list=annotations)"
   ]
  },
  {
   "cell_type": "markdown",
   "id": "8ee3a177-27c6-4de1-a58b-fd1f4cbe9129",
   "metadata": {},
   "source": [
    "Now, we can do a search, for example all annotations where the `format` of the `target` is 'application/pdf':"
   ]
  },
  {
   "cell_type": "code",
   "execution_count": 10,
   "id": "f2b06866-335b-4e2f-8589-6a73481fc1a9",
   "metadata": {},
   "outputs": [
    {
     "data": {
      "text/plain": [
       "SearchInfo(id='d7ea50b0-c68a-462b-b9a9-14a81a83ce9d', location='https://annorepo.dev.clariah.nl/services/my-test-container/search/d7ea50b0-c68a-462b-b9a9-14a81a83ce9d')"
      ]
     },
     "execution_count": 10,
     "metadata": {},
     "output_type": "execute_result"
    }
   ],
   "source": [
    "search_info = ca.create_search(query={'target.format':'application/pdf'})\n",
    "search_info"
   ]
  },
  {
   "cell_type": "markdown",
   "id": "a891d6fb-1a2f-407c-b1b0-cb80f7c80aa2",
   "metadata": {},
   "source": [
    "and we get the first (and, in this case, only) resultpage, and the annotations therein:"
   ]
  },
  {
   "cell_type": "code",
   "execution_count": 11,
   "id": "f4b4189f-eb8b-4f53-a958-d84d87cad3a5",
   "metadata": {},
   "outputs": [
    {
     "data": {
      "text/plain": [
       "[{'id': 'https://annorepo.dev.clariah.nl/w3c/my-test-container/fa30efb3-2169-4223-86f2-143d8bf65dd8',\n",
       "  'type': 'Annotation',\n",
       "  'body': {'id': 'http://example.org/analysis1.mp3',\n",
       "   'format': 'audio/mpeg',\n",
       "   'language': 'fr'},\n",
       "  '@context': 'http://www.w3.org/ns/anno.jsonld',\n",
       "  'target': {'id': 'http://example.gov/patent1.pdf',\n",
       "   'format': 'application/pdf',\n",
       "   'language': ['en', 'ar'],\n",
       "   'textDirection': 'ltr',\n",
       "   'processingLanguage': 'en'}}]"
      ]
     },
     "execution_count": 11,
     "metadata": {},
     "output_type": "execute_result"
    }
   ],
   "source": [
    "page = ca.read_search_result_page(search_info.id)\n",
    "page['items']"
   ]
  }
 ],
 "metadata": {
  "kernelspec": {
   "display_name": "Python 3 (ipykernel)",
   "language": "python",
   "name": "python3"
  },
  "language_info": {
   "codemirror_mode": {
    "name": "ipython",
    "version": 3
   },
   "file_extension": ".py",
   "mimetype": "text/x-python",
   "name": "python",
   "nbconvert_exporter": "python",
   "pygments_lexer": "ipython3",
   "version": "3.12.0"
  }
 },
 "nbformat": 4,
 "nbformat_minor": 5
}
